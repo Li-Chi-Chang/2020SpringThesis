{
 "nbformat": 4,
 "nbformat_minor": 2,
 "metadata": {
  "language_info": {
   "name": "python",
   "codemirror_mode": {
    "name": "ipython",
    "version": 3
   },
   "version": "3.6.9-final"
  },
  "orig_nbformat": 2,
  "file_extension": ".py",
  "mimetype": "text/x-python",
  "name": "python",
  "npconvert_exporter": "python",
  "pygments_lexer": "ipython3",
  "version": 3,
  "kernelspec": {
   "name": "python36964bit9e4a341e6cd34e1fa5fa544aa3e2bd6d",
   "display_name": "Python 3.6.9 64-bit"
  }
 },
 "cells": [
  {
   "cell_type": "markdown",
   "metadata": {},
   "source": [
    "# RNN Textbook code\n",
    "\n",
    "Ch 6 of Textbook\n",
    "\n",
    "Student: Li-Chi Chang\n",
    "\n",
    "Professor: Zesheng Chen\n"
   ]
  },
  {
   "cell_type": "markdown",
   "metadata": {},
   "source": [
    "## Word-level one-hot encoding (toy example)"
   ]
  },
  {
   "cell_type": "code",
   "execution_count": 1,
   "metadata": {},
   "outputs": [
    {
     "output_type": "stream",
     "name": "stdout",
     "text": "[[[0. 1. 0. 0. 0. 0. 0. 0. 0. 0. 0.]\n  [0. 0. 1. 0. 0. 0. 0. 0. 0. 0. 0.]\n  [0. 0. 0. 1. 0. 0. 0. 0. 0. 0. 0.]\n  [0. 0. 0. 0. 1. 0. 0. 0. 0. 0. 0.]\n  [0. 0. 0. 0. 0. 1. 0. 0. 0. 0. 0.]\n  [0. 0. 0. 0. 0. 0. 1. 0. 0. 0. 0.]\n  [0. 0. 0. 0. 0. 0. 0. 0. 0. 0. 0.]\n  [0. 0. 0. 0. 0. 0. 0. 0. 0. 0. 0.]\n  [0. 0. 0. 0. 0. 0. 0. 0. 0. 0. 0.]\n  [0. 0. 0. 0. 0. 0. 0. 0. 0. 0. 0.]]\n\n [[0. 1. 0. 0. 0. 0. 0. 0. 0. 0. 0.]\n  [0. 0. 0. 0. 0. 0. 0. 1. 0. 0. 0.]\n  [0. 0. 0. 0. 0. 0. 0. 0. 1. 0. 0.]\n  [0. 0. 0. 0. 0. 0. 0. 0. 0. 1. 0.]\n  [0. 0. 0. 0. 0. 0. 0. 0. 0. 0. 1.]\n  [0. 0. 0. 0. 0. 0. 0. 0. 0. 0. 0.]\n  [0. 0. 0. 0. 0. 0. 0. 0. 0. 0. 0.]\n  [0. 0. 0. 0. 0. 0. 0. 0. 0. 0. 0.]\n  [0. 0. 0. 0. 0. 0. 0. 0. 0. 0. 0.]\n  [0. 0. 0. 0. 0. 0. 0. 0. 0. 0. 0.]]]\n"
    }
   ],
   "source": [
    "import numpy as np\n",
    "\n",
    "samples = ['The cat sat on the mat.', 'The dog ate my homework.']\n",
    "token_index = {}\n",
    "for sample in samples:\n",
    "    for word in sample.split():\n",
    "        if word not in token_index:\n",
    "            token_index[word] = len(token_index) + 1\n",
    "max_length = 10\n",
    "results = np.zeros(shape=(len(samples),max_length,max(token_index.values()) + 1))\n",
    "for i, sample in enumerate(samples):\n",
    "    for j, word in list(enumerate(sample.split()))[:max_length]:\n",
    "        index = token_index.get(word)\n",
    "        results[i, j, index] = 1.\n",
    "\n",
    "print(results)"
   ]
  },
  {
   "cell_type": "markdown",
   "metadata": {},
   "source": [
    "## Character-level one-hot encoding (toy example)"
   ]
  },
  {
   "cell_type": "code",
   "execution_count": 2,
   "metadata": {},
   "outputs": [
    {
     "output_type": "stream",
     "name": "stdout",
     "text": "[[[1. 1. 1. ... 1. 1. 1.]\n  [1. 1. 1. ... 1. 1. 1.]\n  [1. 1. 1. ... 1. 1. 1.]\n  ...\n  [0. 0. 0. ... 0. 0. 0.]\n  [0. 0. 0. ... 0. 0. 0.]\n  [0. 0. 0. ... 0. 0. 0.]]\n\n [[1. 1. 1. ... 1. 1. 1.]\n  [1. 1. 1. ... 1. 1. 1.]\n  [1. 1. 1. ... 1. 1. 1.]\n  ...\n  [0. 0. 0. ... 0. 0. 0.]\n  [0. 0. 0. ... 0. 0. 0.]\n  [0. 0. 0. ... 0. 0. 0.]]]\n"
    }
   ],
   "source": [
    "import string\n",
    "samples = ['The cat sat on the mat.', 'The dog ate my homework.']\n",
    "characters = string.printable\n",
    "token_index = dict(zip(range(1, len(characters) + 1), characters))\n",
    "max_length = 50\n",
    "results = np.zeros((len(samples), max_length, max(token_index.keys()) + 1))\n",
    "for i, sample in enumerate(samples):\n",
    "    for j, character in enumerate(sample):\n",
    "        index = token_index.get(character)\n",
    "        results[i, j, index] = 1.\n",
    "\n",
    "print(results)"
   ]
  },
  {
   "cell_type": "markdown",
   "metadata": {},
   "source": [
    "## Using Keras for word-level one-hot encoding"
   ]
  },
  {
   "cell_type": "code",
   "execution_count": 3,
   "metadata": {},
   "outputs": [
    {
     "output_type": "stream",
     "name": "stderr",
     "text": "Using TensorFlow backend.\n[[1, 2, 3, 4, 1, 5], [1, 6, 7, 8, 9]]\n[[0. 1. 1. ... 0. 0. 0.]\n [0. 1. 0. ... 0. 0. 0.]]\nFound 9 unique tokens.\n"
    }
   ],
   "source": [
    "from keras.preprocessing.text import Tokenizer\n",
    "\n",
    "samples = ['The cat sat on the mat.','The dog ate my homework.']\n",
    "\n",
    "tokenizer = Tokenizer(num_words=1000)\n",
    "tokenizer.fit_on_texts(samples)\n",
    "\n",
    "sequences = tokenizer.texts_to_sequences(samples)\n",
    "\n",
    "oneHotResult = tokenizer.texts_to_matrix(samples, mode='binary')\n",
    "\n",
    "wordIndex = tokenizer.word_index\n",
    "\n",
    "print(sequences)\n",
    "print(oneHotResult)\n",
    "\n",
    "print('Found %s unique tokens.' % len(wordIndex))"
   ]
  },
  {
   "cell_type": "markdown",
   "metadata": {},
   "source": [
    "## Word-level one-hot encoding with hashing trick (toy example)"
   ]
  },
  {
   "cell_type": "code",
   "execution_count": 4,
   "metadata": {},
   "outputs": [
    {
     "output_type": "stream",
     "name": "stdout",
     "text": "[0. 0. 0. 0. 0. 0. 0. 0. 0. 0. 0. 0. 0. 0. 0. 0. 0. 0. 0. 0. 0. 0. 0. 0.\n 0. 0. 0. 0. 0. 0. 0. 0. 0. 0. 0. 0. 0. 0. 0. 0. 0. 0. 0. 0. 0. 0. 0. 0.\n 0. 0. 0. 0. 0. 0. 0. 0. 0. 0. 0. 0. 0. 0. 0. 0. 0. 0. 0. 0. 0. 0. 0. 0.\n 0. 0. 0. 0. 0. 0. 0. 0. 0. 0. 0. 0. 0. 0. 0. 0. 0. 0. 0. 0. 0. 0. 0. 0.\n 0. 0. 0. 0. 0. 0. 0. 0. 0. 0. 0. 0. 0. 0. 0. 0. 0. 0. 0. 0. 0. 0. 0. 0.\n 0. 0. 0. 0. 0. 0. 0. 0. 0. 0. 0. 0. 0. 0. 0. 0. 0. 0. 0. 0. 0. 0. 0. 0.\n 0. 0. 0. 0. 0. 0. 0. 0. 0. 0. 0. 0. 0. 0. 0. 0. 0. 0. 0. 0. 0. 0. 0. 0.\n 0. 0. 0. 0. 0. 0. 0. 0. 0. 0. 0. 0. 0. 0. 0. 0. 0. 0. 0. 0. 0. 0. 0. 0.\n 0. 0. 0. 0. 0. 0. 0. 0. 0. 0. 0. 0. 0. 0. 0. 0. 0. 0. 0. 0. 0. 0. 0. 0.\n 0. 0. 0. 0. 0. 0. 0. 0. 0. 0. 0. 0. 0. 0. 0. 0. 0. 0. 0. 0. 0. 0. 0. 0.\n 0. 0. 0. 0. 0. 0. 0. 0. 0. 0. 0. 0. 0. 0. 0. 0. 0. 0. 0. 0. 0. 0. 0. 0.\n 0. 0. 0. 0. 0. 0. 0. 0. 0. 0. 0. 0. 0. 0. 0. 0. 0. 0. 0. 0. 0. 0. 0. 0.\n 0. 0. 0. 0. 0. 0. 0. 0. 0. 0. 0. 0. 0. 0. 0. 0. 0. 0. 0. 0. 0. 0. 0. 0.\n 0. 0. 0. 0. 0. 0. 0. 0. 0. 0. 0. 0. 0. 0. 0. 0. 0. 0. 0. 0. 0. 0. 0. 0.\n 0. 0. 0. 0. 0. 0. 0. 0. 0. 0. 0. 0. 0. 0. 0. 0. 0. 0. 0. 0. 0. 0. 0. 0.\n 0. 0. 0. 0. 0. 0. 0. 0. 0. 0. 0. 0. 0. 0. 0. 0. 0. 0. 0. 0. 0. 0. 0. 0.\n 0. 0. 0. 0. 0. 0. 0. 0. 0. 0. 0. 0. 0. 0. 0. 0. 0. 0. 0. 0. 0. 0. 0. 0.\n 0. 0. 0. 0. 0. 0. 0. 0. 0. 0. 0. 0. 0. 0. 0. 0. 0. 0. 0. 0. 0. 0. 0. 0.\n 0. 0. 0. 0. 0. 0. 0. 0. 0. 0. 0. 0. 0. 0. 0. 0. 0. 0. 0. 0. 0. 0. 0. 0.\n 0. 0. 0. 0. 0. 0. 0. 0. 0. 0. 0. 0. 0. 0. 0. 0. 0. 0. 0. 0. 0. 0. 0. 0.\n 0. 0. 0. 0. 0. 0. 0. 0. 0. 0. 0. 0. 0. 0. 0. 0. 0. 0. 0. 0. 0. 0. 0. 0.\n 0. 0. 0. 0. 0. 0. 0. 0. 0. 0. 0. 0. 0. 0. 0. 0. 0. 0. 0. 0. 0. 0. 0. 0.\n 0. 0. 0. 0. 0. 0. 0. 0. 0. 0. 0. 0. 0. 0. 0. 0. 0. 0. 0. 0. 0. 0. 0. 0.\n 0. 0. 0. 0. 0. 0. 0. 0. 0. 0. 0. 0. 0. 0. 0. 0. 0. 0. 0. 0. 0. 0. 0. 0.\n 0. 0. 0. 0. 0. 0. 0. 0. 0. 0. 0. 0. 0. 0. 0. 0. 0. 0. 0. 0. 0. 0. 0. 0.\n 0. 0. 0. 0. 0. 0. 0. 0. 0. 0. 0. 0. 0. 0. 0. 0. 0. 0. 0. 0. 0. 0. 0. 0.\n 0. 0. 0. 0. 0. 0. 0. 0. 0. 0. 0. 0. 0. 0. 0. 0. 0. 0. 0. 0. 0. 0. 0. 0.\n 0. 0. 0. 0. 0. 0. 0. 0. 0. 0. 0. 0. 0. 0. 0. 0. 0. 0. 0. 0. 0. 0. 0. 0.\n 0. 0. 0. 0. 0. 0. 0. 0. 0. 0. 0. 0. 0. 0. 0. 0. 0. 0. 0. 0. 0. 0. 0. 0.\n 0. 0. 0. 0. 0. 0. 0. 0. 0. 0. 0. 0. 0. 0. 0. 0. 0. 0. 0. 0. 0. 0. 0. 0.\n 0. 0. 0. 0. 0. 0. 0. 0. 0. 0. 0. 0. 0. 0. 0. 0. 0. 0. 0. 0. 0. 0. 0. 0.\n 1. 0. 0. 0. 0. 0. 0. 0. 0. 0. 0. 0. 0. 0. 0. 0. 0. 0. 0. 0. 0. 0. 0. 0.\n 0. 0. 0. 0. 0. 0. 0. 0. 0. 0. 0. 0. 0. 0. 0. 0. 0. 0. 0. 0. 0. 0. 0. 0.\n 0. 0. 0. 0. 0. 0. 0. 0. 0. 0. 0. 0. 0. 0. 0. 0. 0. 0. 0. 0. 0. 0. 0. 0.\n 0. 0. 0. 0. 0. 0. 0. 0. 0. 0. 0. 0. 0. 0. 0. 0. 0. 0. 0. 0. 0. 0. 0. 0.\n 0. 0. 0. 0. 0. 0. 0. 0. 0. 0. 0. 0. 0. 0. 0. 0. 0. 0. 0. 0. 0. 0. 0. 0.\n 0. 0. 0. 0. 0. 0. 0. 0. 0. 0. 0. 0. 0. 0. 0. 0. 0. 0. 0. 0. 0. 0. 0. 0.\n 0. 0. 0. 0. 0. 0. 0. 0. 0. 0. 0. 0. 0. 0. 0. 0. 0. 0. 0. 0. 0. 0. 0. 0.\n 0. 0. 0. 0. 0. 0. 0. 0. 0. 0. 0. 0. 0. 0. 0. 0. 0. 0. 0. 0. 0. 0. 0. 0.\n 0. 0. 0. 0. 0. 0. 0. 0. 0. 0. 0. 0. 0. 0. 0. 0. 0. 0. 0. 0. 0. 0. 0. 0.\n 0. 0. 0. 0. 0. 0. 0. 0. 0. 0. 0. 0. 0. 0. 0. 0. 0. 0. 0. 0. 0. 0. 0. 0.\n 0. 0. 0. 0. 0. 0. 0. 0. 0. 0. 0. 0. 0. 0. 0. 0.]\n"
    }
   ],
   "source": [
    "samples = ['The cat sat on the mat.', 'The dog ate my homework.']\n",
    "\n",
    "dimensionality = 1000\n",
    "max_length = 10\n",
    "\n",
    "results = np.zeros((len(samples), max_length, dimensionality))\n",
    "for i, sample in enumerate(samples):\n",
    "    for j, word in list(enumerate(sample.split()))[:max_length]:\n",
    "        index = abs(hash(word)) % dimensionality\n",
    "        results[i, j, index] = 1.\n",
    "\n",
    "print(results[0,2])"
   ]
  },
  {
   "cell_type": "markdown",
   "metadata": {},
   "source": [
    "## Word embedding technique\n",
    "\n",
    "Word embeddings are meant to map human language into a geometric space.\n",
    "\n",
    "## Instantiating an Embedding layer\n",
    "\n"
   ]
  },
  {
   "cell_type": "code",
   "execution_count": 5,
   "metadata": {},
   "outputs": [],
   "source": [
    "from keras.layers import Embedding\n",
    "embedding_layer = Embedding(1000, 64)"
   ]
  },
  {
   "cell_type": "code",
   "execution_count": 6,
   "metadata": {},
   "outputs": [],
   "source": [
    "from keras.datasets import imdb\n",
    "from keras import preprocessing\n",
    "max_features = 10000\n",
    "maxlen = 20\n",
    "(x_train, y_train), (x_test, y_test) = imdb.load_data(num_words=max_features)\n",
    "x_train = preprocessing.sequence.pad_sequences(x_train, maxlen=maxlen)\n",
    "x_test = preprocessing.sequence.pad_sequences(x_test, maxlen=maxlen)"
   ]
  },
  {
   "cell_type": "code",
   "execution_count": 7,
   "metadata": {},
   "outputs": [
    {
     "output_type": "stream",
     "name": "stdout",
     "text": "WARNING:tensorflow:From /usr/lib/python3/dist-packages/tensorflow_core/python/ops/resource_variable_ops.py:1630: calling BaseResourceVariable.__init__ (from tensorflow.python.ops.resource_variable_ops) with constraint is deprecated and will be removed in a future version.\nInstructions for updating:\nIf using Keras pass *_constraint arguments to layers.\nWARNING:tensorflow:From /usr/lib/python3/dist-packages/tensorflow_core/python/ops/nn_impl.py:183: where (from tensorflow.python.ops.array_ops) is deprecated and will be removed in a future version.\nInstructions for updating:\nUse tf.where in 2.0, which has the same broadcast rule as np.where\nModel: \"sequential_1\"\n_________________________________________________________________\nLayer (type)                 Output Shape              Param #   \n=================================================================\nembedding_2 (Embedding)      (None, 20, 8)             80000     \n_________________________________________________________________\nflatten_1 (Flatten)          (None, 160)               0         \n_________________________________________________________________\ndense_1 (Dense)              (None, 1)                 161       \n=================================================================\nTotal params: 80,161\nTrainable params: 80,161\nNon-trainable params: 0\n_________________________________________________________________\nWARNING:tensorflow:From /usr/lib/python3/dist-packages/keras/backend/tensorflow_backend.py:422: The name tf.global_variables is deprecated. Please use tf.compat.v1.global_variables instead.\n\nTrain on 20000 samples, validate on 5000 samples\nEpoch 1/10\n20000/20000 [==============================] - 3s 145us/step - loss: 0.6727 - acc: 0.6187 - val_loss: 0.6308 - val_acc: 0.6848\nEpoch 2/10\n20000/20000 [==============================] - 3s 135us/step - loss: 0.5567 - acc: 0.7481 - val_loss: 0.5364 - val_acc: 0.7244\nEpoch 3/10\n20000/20000 [==============================] - 3s 135us/step - loss: 0.4700 - acc: 0.7832 - val_loss: 0.5062 - val_acc: 0.7384\nEpoch 4/10\n20000/20000 [==============================] - 3s 135us/step - loss: 0.4234 - acc: 0.8098 - val_loss: 0.4990 - val_acc: 0.7450\nEpoch 5/10\n20000/20000 [==============================] - 3s 134us/step - loss: 0.3910 - acc: 0.8290 - val_loss: 0.4981 - val_acc: 0.7486\nEpoch 6/10\n20000/20000 [==============================] - 2s 123us/step - loss: 0.3631 - acc: 0.8458 - val_loss: 0.5032 - val_acc: 0.7472\nEpoch 7/10\n20000/20000 [==============================] - 3s 134us/step - loss: 0.3380 - acc: 0.8580 - val_loss: 0.5101 - val_acc: 0.7482\nEpoch 8/10\n20000/20000 [==============================] - 3s 134us/step - loss: 0.3148 - acc: 0.8709 - val_loss: 0.5166 - val_acc: 0.7484\nEpoch 9/10\n20000/20000 [==============================] - 3s 134us/step - loss: 0.2935 - acc: 0.8815 - val_loss: 0.5264 - val_acc: 0.7466\nEpoch 10/10\n20000/20000 [==============================] - 3s 135us/step - loss: 0.2741 - acc: 0.8921 - val_loss: 0.5377 - val_acc: 0.7436\n"
    }
   ],
   "source": [
    "from keras.models import Sequential\n",
    "from keras.layers import Flatten, Dense\n",
    "model = Sequential()\n",
    "model.add(Embedding(10000, 8, input_length=maxlen))\n",
    "model.add(Flatten())\n",
    "model.add(Dense(1, activation='sigmoid'))\n",
    "model.compile(optimizer='rmsprop', loss='binary_crossentropy', metrics=['acc'])\n",
    "model.summary()\n",
    "history = model.fit(x_train, y_train,epochs=10,batch_size=32,validation_split=0.2)"
   ]
  },
  {
   "cell_type": "code",
   "execution_count": 8,
   "metadata": {},
   "outputs": [
    {
     "output_type": "stream",
     "name": "stdout",
     "text": "25000\n20\n25000\n"
    }
   ],
   "source": [
    "print(len(x_train))\n",
    "print(len(x_train[0]))\n",
    "print(len(y_train))"
   ]
  },
  {
   "cell_type": "code",
   "execution_count": 9,
   "metadata": {},
   "outputs": [],
   "source": [
    "import os\n",
    "imdb_dir = '/home/chen/LiChiChang/2020SpringThesis/dataset/IMDB/aclImdb'\n",
    "train_dir = os.path.join(imdb_dir, 'train')\n",
    "labels = []\n",
    "texts = []\n",
    "for label_type in ['neg', 'pos']:\n",
    "    dir_name = os.path.join(train_dir, label_type)\n",
    "    for fname in os.listdir(dir_name):\n",
    "        if fname[-4:] == '.txt':\n",
    "            f = open(os.path.join(dir_name, fname))\n",
    "            texts.append(f.read())\n",
    "            f.close()\n",
    "            if label_type == 'neg':\n",
    "                labels.append(0)\n",
    "            else:\n",
    "                labels.append(1)"
   ]
  },
  {
   "cell_type": "code",
   "execution_count": 10,
   "metadata": {
    "tags": [
     "outputPrepend"
    ]
   },
   "outputs": [
    {
     "output_type": "stream",
     "name": "stdout",
     "text": "ssed it \\x96 they're hot for each other once again. Only this time Sherry's spinster sister, Connie (Harriet Hillard) threatens the whole fine romance by falling for Bake's robust seafaring buddy, Bilge Smith (Randolph Scott); a sort of use 'em up and toss 'em out kind of guy, thus forcing Sherry to reconsider her opinion of all sailors in general. Irving Berlin lends immeasurable class to the proceedings with his classic, classy score, including standards 'Let Yourself Go', 'I'm Putting All My Eggs in One Basket' and 'Let's Face the Music and Dance;' the latter a divinely inspired skit about suicide that turns into another immediately recognizable and thoroughly sublime pas deux for Fred and Ginger. <br /><br />The transfer on 'Follow The Fleet' is a tad weaker. The gray scale remains nicely balanced but now it's a tad thick looking with not nearly as much tonal variation as the previous titles. Grain is still present. So are age related artifacts. Once you've settled into to the slightly dense and sometimes more softly focused image quality, the overall impression is more than acceptable for a film of this vintage. The audio is Mono but very nicely balanced. Extras include a featurette, theatrical trailer and short subject, but oddly \\x96 no audio commentary. Considering the importance of this film in the overall canon of Astaire/Rogers this is an uncharacteristic oversight from Warner Home Video.\", '\"That \\'70s Show\" is definitely the funniest show currently on TV. I started watching it about two and a half years ago, and as soon as I saw it I could tell it was a great show. I like all the characters, but my personal favorites are Fez and Kelso. Leo was also an awesome character while he was there, I really hope he comes back because he\\'s hilarious. It\\'s classic when Fez goes \"you son of a bitch!\", and when Kelso yells \"burn!\", that always makes me laugh. They are both great characters and always have something funny to say. Jackie being hot is just another reason to watch the show; she started out being really good looking but damn, somewhere around season 5-6 she just got Really hot. I\\'ve seen most of the episodes more than once, some like 10 times, and there still hilarious. This is one of the few shows that I can watch over and over and still laugh at just as much as I did the first time I saw it. The cast is classic; almost everyone is funny, where with many shows there are only a few funny characters. I will be sad to see this show end next year, but it will be going off the air as one of the best shows ever.', '...this is, above all else, the typical Crown International Pictures drive-in (read \"passion pit\") programmer. The 1975 Sammy Johns hit record \"Chevy Van\" is heard repeatedly on the soundtrack (this movie has even been reissued with the title CHEVY VAN), despite the film\\'s title vehicle being a Dodge. Danny DeVito makes only six minutes of on-screen appearance, but countless VHS reissues falsely credit him as the star of the flick. The movie is a comparatively sexist morality tale -- will Bobby find sexual satisfaction through the one-night-stand his customised van facilitates, or must he wait until Tina, the girl of his dreams, gives him the time of day? Still, it is representative of the prevailing carnal dream of male American high schoolers of the time, and on that basis alone THE VAN has, almost in spite of itself, become an artifact of the period that must be referenced in any honest retrospective of the period\\'s popular American cinema...', '(SPOILERS IN FIRST PARAGRAPH) This movie\\'s anti-German sentiment seems painfully dated now, but it\\'s a brilliant example of great war-time propaganda. It was made back when Cecil B. DeMille was still a great director. (Ignore all his later Best Picture Academy Awards; he never made a very good sound film.) This movie lacks the comedy of most of Pickford\\'s other films, and really it was DeMille\\'s movie, not Pickford\\'s. The vilification of the Germans can be compared to the way \"The Patriot\" of 2000 did the same to the British. The only good German in the film was a reluctant villain who had the ironic name of Austreheim. They even had Pickford take an ill-fated trip on a luxury ship that gets torpedoed by a German submarine. So what\\'ll get the Americans more stirred up to war? The sinking of the Lusitania, or watching America\\'s favorite Canadian import sinking in it? All throughout the film DeMille runs his protagonist from one kind of horrible calamity to another, barely escaping death, hypothermia, depravity, rape, execution, and explosions that go off in just the right place to keep her unharmed. The way she is saved from a firing squad is no more believable than the way the humans in \"Jurassic Park\" were ultimately rescued from the velociraptors. If I was any more gullible to such propaganda I would punish myself for having a part-German ancestry. <br /><br />Was it a good film? Aside from a humorous running gag about Americans abroad thinking they\\'re untouchable \\x96 that was apparently a joke even back then \\x96 you might not be entertained. You\\'ll find it more than a little melodramatic, and obviously one-sided, but the first thing that came to my mind after watching it is that it was years before Potemkin\\'s false portrayal of a massacre revolutionized the language of cinema as well as a movie\\'s potential for propaganda. It made me wonder: what became of Cecil B. DeMille? Somewhere between the advent of sound and \"The Greatest Show on Earth\" he seemed to lose his ambition. Ben Hur looked expensive, but not ambitious. In a sentence, this movie is for 1) Film historians, 2) Silent Film Buffs, 3) Mary Pickford fans, or 4) DeMille fans, if such a person exists.', \"This Schiffer guy is a real genius! The movie is of excellent quality and both entertaining and educating.<br /><br />I didn't know what a weather girl was before I learned it here.\", 'This whimsical film had the misfortune of being released at the same time of the highly popular \"Amelie\", both having the wonderful Audrey Tautou playing the central role. Laurent Firode, the talented director made one of the most enjoyable films that have come out of France in recent memory.<br /><br />The film deals with chance, as its English title indicates. The French title makes reference at how butterflies wings can create chaos over the Atlantic as they fly, as well as hurricanes in the Pacific, something not to be believed just by looking at these colorful insects. From the start, the director interlaces all the characters one sees in the film and how each has a connection to the other, something that is hard to imagine, but in the film\\'s context seems to work well.<br /><br />A chance meeting at the metro sets the tone for the film. Irene, who is going to work, is asked by the woman sitting opposite her to tell her what her Zodiac sign is and proceeds to read from her paper. Irene, it seems will cross paths and will find her soul mate that same day. After Irene leaves the train, the quiet young man seated next to the woman tells her he has the same birth date as Irene. It seems they are destined to one another from the start, but alas, they will not reconnect until the last frame of the film.<br /><br />Audrey Tautou is wonderful as Irene. Faudel, who plays Younes, doesn\\'t have a lot to do until the end, but he shows he has a presence and plays well his part. The talented young cast makes a valuable contribution to the success of the film, which is as light as butterfly wings.<br /><br />We look forward to future films by Laurent Firode because he appears to be a director with the heart in the right place and an ear to the way humans are connected.', \"Alain Resnais films are uncanny in the way that they aren't really edited for continuity, but instead the shot seems to finish right where a memory has edited. Love unto Death is at times a quiet existential drama and a roundly creative magical realist movie, and either way treats the audience to a whole new aspect of the Eros/Thanatos relationship... or perhaps creates a new relationship, that of Agape/Thanatos.<br /><br />The beginning is like a bizarre surrealist horror movie. A woman desperately runs around the house while a man lays dying in his bed--did she kill him, or what happened? Soon that tension is dissolved as a doctor arrives and pronounces him dead, but from there a newer, stranger drama begins: the man wakes up, and after being dead the woman and man fall in love to actually quite tragic consequences. Meanwhile, their friends, who are both priests, watch on and submit their own debate into the nature of love, faith, and devotion.<br /><br />Resnais always seems to have some device to make these sorts of narratives work, and what's so amazing about his films is that those devices always work. In this case, Resnais intercuts the scenes with shots of snow falling to an arousing orchestral score, which fades off and bleeds into the subsequent shots that continue the story. Trapped in this elegiac aside periodically, the film develops a rhythm not too unlike an epic poem, and I got strange flashbacks to Dante's Divine Comedy from this one, despite the lack of direct reference within the movie. Resnais is known as a very poetic filmmaker but this extends past just the cinepoem structure to something that forces a degree of introspection in the viewer, which has the possibility to bring to surface some odd recollections. Memory-narrative, Resnais creates.<br /><br />--PolarisDiB\", \"This is a better than average silent movie and it's still well worth seeing if you are a fan of the silents. However, if you aren't yet a fan of the genre, I suggest you try a few other films before watching this one. That's because the plot just seems pretty old fashioned and difficult to believe in spots. But, despite this, it's still a good film and kept my interest.<br /><br />A nice lady unfortunately hooked up with the wrong man and ran away to marry him. The film starts five years later after she has come to realize that he is really a brutal thief. Despite this, she tries to make the best of it and not dwell on how good life had been before this jerk came into her life. However, the rent is due and there's no money, so the lady is forced to look for work. She becomes a personal seamstress for a rich lady whose husband is trying to swing a business deal. Unfortunately, the lady who they were trying to hook up a potential client with for a dinner party can't make it and the seamstress is paid handsomely to be the man's date. Well, like Cinderella, she cleans up pretty well and the man is infatuated with her! What to do now--given that she is actually married and the new fella wants to marry her?! Well, see the movie yourself to see how it's all resolved. I DIDN'T like how they handled the husband, as it seemed awfully predictable and clichéd. However, once he was out of the way, I do admire how the film also DIDN'T give up a by-the-numbers finale and left the film with a few loose ends.<br /><br />All in all, a very good film worth seeing, but certainly not great.\", 'I saw this pilot when it was first shown, and I\\'m sure countless \"Spirit\" fans hate it, because, like Batman, the Green Hornet etc., it took the character in the direction of \"camp\". But I evidently never got enough of Batman, because I thought it was entertaining, in some of the same ways as that show. There are two parts that stay with me. First, when Denny\\'s partner has been fatally wounded, and he makes a dramatic speech about how he always stood for the law, and obeying the exact letter of it. Then, he says something like, \"Boy, was I stupid!\" Which is his way of telling Denny to become a vigilante instead, which he does (though the TV Batman kind). Then, there\\'s the scene where he tries to seduce the villainess into letting him go by kissing her, but she isn\\'t fooled, because he\\'s too honest to kiss her convincingly ! This was a great example of \"camp\", that was also \"underplayed\", by both the actor and actress.', \"Looking at some of the negative posts, you really have to wonder what some people do for fun....<br /><br />I was lucky enough to see the film during its all-too-brief theatrical run. The audience laughed its heads off. I'm watching a tape of it as I type and it's still dang funny!<br /><br />It's also got a sweet side, with unexpected turns of genuine pathos. The late, great Royal Dano is especially effective as the lonely, down-on-his-luck farmer Wrenchmuller. Ariana Richards and J.J. Anderson are great as the lead kids. And the actors in the Martian suits, although limited to mime, do a great job<br /><br />Another thing to look for is the background details. The film is full of homages, pastiches, and references to other SF and fantasy films. Take a look at the Martian costumes next time. One of them is wearing a Marty McFly costume, another is a Ghostbuster, a third is in a House Atreides uniform, and a fourth is wearing a Last Starfighter flightsuit.\", \"FUTZ is the only show preserved from the experimental theatre movement in New York in the 1960s (the origins of Off Off Broadway). Though it's not for everyone, it is a genuinely brilliant, darkly funny, even more often deeply disturbing tale about love, sex, personal liberty, and revenge, a serious morality tale even more relevant now in a time when Congress wants to outlaw gay marriage by trashing our Constitution. The story is not about being gay, though -- it's about love and sex that don't conform to social norms and therefore must be removed through violence and hate. On the surface, it tells the story of a man who falls in love with a pig, but like any great fable, it's not really about animals, it's about something bigger -- stifling conformity in America.<br /><br />The stage version won international acclaim in its original production, it toured the U.S. and Europe, and with others of its kind, influenced almost all theatre that came after it. Luckily, we have preserved here the show pretty much as it was originally conceived, with the original cast and original director, Tom O'Horgan (who also directed HAIR and Jesus Christ Superstar on Broadway).<br /><br />This is not a mainstream, easy-to-take, studio film -- this is an aggressive, unsettling, glorious, deeply emotional, wildly imaginative piece of storytelling that you'll never forget. And it just might change the way you see the world...\", \"This film, I thought, was the great journey that Forrest Gump should have been. It's a rare treat to watch a cable movie in the middle of the day and come across a foreign film that is done so well. This film is very well acted, and I strongly suggest it to anyone who can take sub-titles.\", \"BSG is one of my all time favourite TV series. I was lucky enough to start watching it as the series came to it's final season. It was a marathon from start to finish for me and what an incredible ride it was! <br /><br />As soon as I noticed the pilot on Hulu I knew exactly what I was in for just by the title - Caprica! Although, some things don't add up when you compare both series it is still beautifully executed. There were no mention about the holobands in Battlestar Galactica or the mention of virtual worlds but maybe I haven't got far enough into the series for them to explain why.<br /><br />I recommend this show to anyone who loves the universe, technology, and alternate fantasies of our world. This show is very interesting and will have you wanting to watch more!\", '\"Der Todesking\"-Jorg Buttgereit\\'s second full-length feature film(the first one was notorious \"Nekromantik\")has no central character or characters,but instead thematic continuity in the act of suicide.Divided into days of the week,it comprises of a series of set-pieces,each of which featuring the self-destruction of a complete stranger.Yes,the production values are low and it\\'s disturbing,but in many ways \"Der Todesking\" is extremely effective.It makes you think which is sometimes more important than pure entertainment.Unlike the other Buttgereit\\'s works it isn\\'t very gory,but there are some unpleasant images like castration scene in the Tuesday episode,a decomposing corpse and various acts of suicide.The last(Sunday)episode is so depressing and full of pain!-just amazing if you want my opinion.10 out of 10-check out this post-modernism shocker!Disturbing art in the purest form!', 'This silly movie is really fun for the younger audiences. Its heros are a couple of dud detectives whose sophomoric attitudes lead them down some very silly roads. Chasing the big murder case, you will see these detectives go to every length to solve the crime. No nudity, but lots of sexual implication, slapstick silliness...everything adolescents go for. Low budget, but very entertaining. Definite cult classic potential.', \"I don't think this movie is for everyone. But I saw it this weekend in Seattle and I thought it was so funny. I haven't laughed that hard during a movie in long time. I thought the entire cast did a great job. You will find yourself laughing from the first moment through the very last scene. I suspect some moviegoers (especially the ones who take themselves WAY too seriously) will be turned off by this brand of humor. Not me. The movie was a real surprise. And the entire theater was rolling with laughter throughout the showing I went to which makes me think that a lot of people enjoyed themselves and were happy to have a good time at the movies for a change. I cannot wait to see it again! If you're in the mood to LOL then this is for you. Funny funny funny funny!\", \"I originally saw this film years ago during Cinemax Friday after dark series(back when the cable box was built like a keyboard),and it intrigued me. Even though there is a pointless aspect to the film it is well acted.The performances of Depardieu & Dewaere are very enjoyable.They have a good chemistry together & Miou-Miou makes a pink fur look breathtaking.A movie like this probably wouldn't be made in these politically correct times(at least not in the US), since it seems to sensationalize things like violence,robbery,& casual sex. This movie proves that with a talented cast & also talented directing a good movie is a good movie no matter the subject.It saddened me to find out Patrick Dewaere committed suicide & in the near future I,ll will check him out with Depardieu & Miou-Miou in Get Out Your Hankerchief.\", 'Men of Honor has many great aspects to it. Good action sequences, plenty of \"feel good\" scenes, a good musical score, but the part that really makes the movie is the great acting. Mostly by Robert Deniro. The story of Men of Honor is focused about Carl Brashear played by Cuba Gooding Jr. who wants to be the first African American deep sea diver in the navy. It chronicles his rough struggle from being a poor farmer to getting into diving school and even further. It is a good story, but it seems like it has been done many times before. A person, against all of the odds, won\\'t give up until they accomplish their goals that they set for some sentimental reason many years ago. It could happen, but a lot of the struggles the Brashear faces in the movie are questionable including the C.O. of the diving school tampering with his final test. However, all of that is made up for the scene when Robert Deniro finally enters the movie. Deniro plays Mater Chief Sunday who is the teacher at the diving school Brashear is attending. As soon as Deniro come in he omits this vibe of extreme arrogance that you can\\'t hate unless you have incredible wilpower. Before the movie ends, Deniro gives off multiple speeches that would have you laughing at how cool he is but you are too stunned at the way he punches them out. In the end you must doubt some of the aspects of the film, but admit it, if it was all the truth, it would have you snoozing it your seat by the first twenty minutes.']\n25000\n"
    }
   ],
   "source": [
    "print(labels)\n",
    "print(texts)\n",
    "print(len(texts))"
   ]
  },
  {
   "cell_type": "code",
   "execution_count": 11,
   "metadata": {},
   "outputs": [
    {
     "output_type": "stream",
     "name": "stdout",
     "text": "Found 88582 unique tokens.\nShape of data tensor: (25000, 100)\nShape of label tensor: (25000,)\n"
    }
   ],
   "source": [
    "from keras.preprocessing.text import Tokenizer\n",
    "from keras.preprocessing.sequence import pad_sequences\n",
    "import numpy as np\n",
    "maxlen = 100\n",
    "training_samples = 200\n",
    "validation_samples = 10000\n",
    "max_words = 10000\n",
    "tokenizer = Tokenizer(num_words=max_words)\n",
    "tokenizer.fit_on_texts(texts)\n",
    "sequences = tokenizer.texts_to_sequences(texts)\n",
    "\n",
    "word_index = tokenizer.word_index\n",
    "print('Found %s unique tokens.' % len(word_index))\n",
    "data = pad_sequences(sequences, maxlen=maxlen)\n",
    "labels = np.asarray(labels)\n",
    "print('Shape of data tensor:', data.shape)\n",
    "print('Shape of label tensor:', labels.shape)\n",
    "indices = np.arange(data.shape[0])\n",
    "np.random.shuffle(indices)\n",
    "data = data[indices]\n",
    "labels = labels[indices]\n",
    "x_train = data[:training_samples]\n",
    "y_train = labels[:training_samples]\n",
    "x_val = data[training_samples: training_samples + validation_samples]\n",
    "y_val = labels[training_samples: training_samples + validation_samples]"
   ]
  },
  {
   "cell_type": "code",
   "execution_count": 12,
   "metadata": {},
   "outputs": [
    {
     "output_type": "stream",
     "name": "stdout",
     "text": "Found 400000 word vectors.\n"
    }
   ],
   "source": [
    "glove_dir = '/home/chen/LiChiChang/2020SpringThesis/dataset/glove.6B/'\n",
    "embeddings_index = {}\n",
    "f = open(os.path.join(glove_dir, 'glove.6B.100d.txt'))\n",
    "for line in f:\n",
    "    values = line.split()\n",
    "    word = values[0]\n",
    "    coefs = np.asarray(values[1:], dtype='float32')\n",
    "    embeddings_index[word] = coefs\n",
    "f.close()\n",
    "print('Found %s word vectors.' % len(embeddings_index))"
   ]
  },
  {
   "cell_type": "code",
   "execution_count": 13,
   "metadata": {},
   "outputs": [],
   "source": [
    "embedding_dim = 100\n",
    "embedding_matrix = np.zeros((max_words, embedding_dim))\n",
    "for word, i in word_index.items():\n",
    "    if i < max_words:\n",
    "        embedding_vector = embeddings_index.get(word)\n",
    "        if embedding_vector is not None:\n",
    "            embedding_matrix[i] = embedding_vector"
   ]
  },
  {
   "cell_type": "code",
   "execution_count": 14,
   "metadata": {},
   "outputs": [
    {
     "output_type": "stream",
     "name": "stdout",
     "text": "Model: \"sequential_2\"\n_________________________________________________________________\nLayer (type)                 Output Shape              Param #   \n=================================================================\nembedding_3 (Embedding)      (None, 100, 100)          1000000   \n_________________________________________________________________\nflatten_2 (Flatten)          (None, 10000)             0         \n_________________________________________________________________\ndense_2 (Dense)              (None, 32)                320032    \n_________________________________________________________________\ndense_3 (Dense)              (None, 1)                 33        \n=================================================================\nTotal params: 1,320,065\nTrainable params: 1,320,065\nNon-trainable params: 0\n_________________________________________________________________\n"
    }
   ],
   "source": [
    "from keras.models import Sequential\n",
    "from keras.layers import Embedding, Flatten, Dense\n",
    "model = Sequential()\n",
    "model.add(Embedding(max_words, embedding_dim, input_length=maxlen))\n",
    "model.add(Flatten())\n",
    "model.add(Dense(32, activation='relu'))\n",
    "model.add(Dense(1, activation='sigmoid'))\n",
    "model.summary()"
   ]
  },
  {
   "cell_type": "code",
   "execution_count": 15,
   "metadata": {},
   "outputs": [],
   "source": [
    "model.layers[0].set_weights([embedding_matrix])\n",
    "model.layers[0].trainable = False"
   ]
  },
  {
   "cell_type": "code",
   "execution_count": 16,
   "metadata": {},
   "outputs": [
    {
     "output_type": "stream",
     "name": "stdout",
     "text": "Train on 200 samples, validate on 10000 samples\nEpoch 1/10\n200/200 [==============================] - 1s 4ms/step - loss: 1.7158 - acc: 0.5200 - val_loss: 0.7377 - val_acc: 0.5022\nEpoch 2/10\n200/200 [==============================] - 1s 4ms/step - loss: 0.5928 - acc: 0.6600 - val_loss: 0.6857 - val_acc: 0.5502\nEpoch 3/10\n200/200 [==============================] - 1s 4ms/step - loss: 0.3852 - acc: 0.8800 - val_loss: 0.7560 - val_acc: 0.5133\nEpoch 4/10\n200/200 [==============================] - 1s 4ms/step - loss: 0.4107 - acc: 0.8200 - val_loss: 0.7439 - val_acc: 0.5303\nEpoch 5/10\n200/200 [==============================] - 1s 4ms/step - loss: 0.2218 - acc: 0.9450 - val_loss: 0.8130 - val_acc: 0.5246\nEpoch 6/10\n200/200 [==============================] - 1s 4ms/step - loss: 0.1554 - acc: 0.9750 - val_loss: 0.7731 - val_acc: 0.5517\nEpoch 7/10\n200/200 [==============================] - 1s 4ms/step - loss: 0.1322 - acc: 0.9600 - val_loss: 0.7696 - val_acc: 0.5519\nEpoch 8/10\n200/200 [==============================] - 1s 4ms/step - loss: 0.0538 - acc: 1.0000 - val_loss: 1.1138 - val_acc: 0.5101\nEpoch 9/10\n200/200 [==============================] - 1s 4ms/step - loss: 0.3089 - acc: 0.8500 - val_loss: 0.7413 - val_acc: 0.5716\nEpoch 10/10\n200/200 [==============================] - 1s 4ms/step - loss: 0.0310 - acc: 1.0000 - val_loss: 0.7880 - val_acc: 0.5631\n"
    }
   ],
   "source": [
    "model.compile(optimizer='rmsprop',loss='binary_crossentropy',metrics=['acc'])\n",
    "history = model.fit(x_train, y_train,epochs=10,batch_size=32,validation_data=(x_val, y_val))\n",
    "model.save_weights('pre_trained_glove_model.h5')"
   ]
  },
  {
   "cell_type": "code",
   "execution_count": 17,
   "metadata": {},
   "outputs": [
    {
     "output_type": "display_data",
     "data": {
      "text/plain": "<Figure size 640x480 with 1 Axes>"
     },
     "metadata": {}
    },
    {
     "output_type": "display_data",
     "data": {
      "text/plain": "<Figure size 640x480 with 1 Axes>"
     },
     "metadata": {}
    }
   ],
   "source": [
    "import matplotlib.pyplot as plt\n",
    "acc = history.history['acc']\n",
    "val_acc = history.history['val_acc']\n",
    "loss = history.history['loss']\n",
    "val_loss = history.history['val_loss']\n",
    "epochs = range(1, len(acc) + 1)\n",
    "plt.plot(epochs, acc, 'bo', label='Training acc')\n",
    "plt.plot(epochs, val_acc, 'b', label='Validation acc')\n",
    "plt.title('Training and validation accuracy')\n",
    "plt.legend()\n",
    "plt.figure()\n",
    "plt.plot(epochs, loss, 'bo', label='Training loss')\n",
    "plt.plot(epochs, val_loss, 'b', label='Validation loss')\n",
    "plt.title('Training and validation loss')\n",
    "plt.legend()\n",
    "plt.show()"
   ]
  },
  {
   "cell_type": "markdown",
   "metadata": {},
   "source": [
    "This is only a dense model to practice embedding layer"
   ]
  },
  {
   "cell_type": "code",
   "execution_count": 18,
   "metadata": {},
   "outputs": [
    {
     "output_type": "stream",
     "name": "stdout",
     "text": "Model: \"sequential_3\"\n_________________________________________________________________\nLayer (type)                 Output Shape              Param #   \n=================================================================\nembedding_4 (Embedding)      (None, 100, 100)          1000000   \n_________________________________________________________________\nflatten_3 (Flatten)          (None, 10000)             0         \n_________________________________________________________________\ndense_4 (Dense)              (None, 32)                320032    \n_________________________________________________________________\ndense_5 (Dense)              (None, 1)                 33        \n=================================================================\nTotal params: 1,320,065\nTrainable params: 1,320,065\nNon-trainable params: 0\n_________________________________________________________________\nTrain on 200 samples, validate on 10000 samples\nEpoch 1/10\n200/200 [==============================] - 1s 4ms/step - loss: 0.6948 - acc: 0.4600 - val_loss: 0.6979 - val_acc: 0.5033\nEpoch 2/10\n200/200 [==============================] - 1s 4ms/step - loss: 0.5111 - acc: 0.9700 - val_loss: 0.6927 - val_acc: 0.5226\nEpoch 3/10\n200/200 [==============================] - 1s 4ms/step - loss: 0.2836 - acc: 1.0000 - val_loss: 0.7029 - val_acc: 0.5128\nEpoch 4/10\n200/200 [==============================] - 1s 4ms/step - loss: 0.1281 - acc: 0.9950 - val_loss: 0.7077 - val_acc: 0.5157\nEpoch 5/10\n200/200 [==============================] - 1s 4ms/step - loss: 0.0592 - acc: 1.0000 - val_loss: 0.7092 - val_acc: 0.5213\nEpoch 6/10\n200/200 [==============================] - 1s 4ms/step - loss: 0.0313 - acc: 1.0000 - val_loss: 0.7118 - val_acc: 0.5249\nEpoch 7/10\n200/200 [==============================] - 1s 4ms/step - loss: 0.0176 - acc: 1.0000 - val_loss: 0.7171 - val_acc: 0.5224\nEpoch 8/10\n200/200 [==============================] - 1s 4ms/step - loss: 0.0100 - acc: 1.0000 - val_loss: 0.7303 - val_acc: 0.5192\nEpoch 9/10\n200/200 [==============================] - 1s 4ms/step - loss: 0.0060 - acc: 1.0000 - val_loss: 0.7290 - val_acc: 0.5243\nEpoch 10/10\n200/200 [==============================] - 1s 4ms/step - loss: 0.0036 - acc: 1.0000 - val_loss: 0.7378 - val_acc: 0.5232\n"
    }
   ],
   "source": [
    "from keras.models import Sequential\n",
    "from keras.layers import Embedding, Flatten, Dense\n",
    "model = Sequential()\n",
    "model.add(Embedding(max_words, embedding_dim, input_length=maxlen))\n",
    "model.add(Flatten())\n",
    "model.add(Dense(32, activation='relu'))\n",
    "model.add(Dense(1, activation='sigmoid'))\n",
    "model.summary()\n",
    "model.compile(optimizer='rmsprop',loss='binary_crossentropy',metrics=['acc'])\n",
    "history = model.fit(x_train, y_train,epochs=10,batch_size=32,validation_data=(x_val, y_val))"
   ]
  },
  {
   "cell_type": "code",
   "execution_count": 19,
   "metadata": {},
   "outputs": [
    {
     "output_type": "display_data",
     "data": {
      "text/plain": "<Figure size 432x288 with 1 Axes>",
      "image/png": "[encoded data removed]"
     },
     "metadata": {}
    },
    {
     "output_type": "display_data",
     "data": {
      "text/plain": "<Figure size 432x288 with 1 Axes>",
      "image/png": "[encoded data removed]"
     },
     "metadata": {}
    }
   ],
   "source": [
    "import matplotlib.pyplot as plt\n",
    "acc = history.history['acc']\n",
    "val_acc = history.history['val_acc']\n",
    "loss = history.history['loss']\n",
    "val_loss = history.history['val_loss']\n",
    "epochs = range(1, len(acc) + 1)\n",
    "plt.plot(epochs, acc, 'bo', label='Training acc')\n",
    "plt.plot(epochs, val_acc, 'b', label='Validation acc')\n",
    "plt.title('Training and validation accuracy')\n",
    "plt.legend()\n",
    "plt.figure()\n",
    "plt.plot(epochs, loss, 'bo', label='Training loss')\n",
    "plt.plot(epochs, val_loss, 'b', label='Validation loss')\n",
    "plt.title('Training and validation loss')\n",
    "plt.legend()\n",
    "plt.show()"
   ]
  },
  {
   "cell_type": "code",
   "execution_count": 20,
   "metadata": {},
   "outputs": [],
   "source": [
    "test_dir = os.path.join(imdb_dir, 'test')\n",
    "labels = []\n",
    "texts = []\n",
    "for label_type in ['neg', 'pos']:\n",
    "    dir_name = os.path.join(test_dir, label_type)\n",
    "    for fname in sorted(os.listdir(dir_name)):\n",
    "        if fname[-4:] == '.txt':\n",
    "            f = open(os.path.join(dir_name, fname))\n",
    "            texts.append(f.read())\n",
    "            f.close()\n",
    "            if label_type == 'neg':\n",
    "                labels.append(0)\n",
    "            else:\n",
    "                labels.append(1)\n",
    "sequences = tokenizer.texts_to_sequences(texts)\n",
    "x_test = pad_sequences(sequences, maxlen=maxlen)\n",
    "y_test = np.asarray(labels)"
   ]
  },
  {
   "cell_type": "code",
   "execution_count": 21,
   "metadata": {},
   "outputs": [
    {
     "output_type": "stream",
     "name": "stdout",
     "text": "25000/25000 [==============================] - 2s 70us/step\n"
    },
    {
     "output_type": "execute_result",
     "data": {
      "text/plain": "[0.7896018857383728, 0.5659199953079224]"
     },
     "metadata": {},
     "execution_count": 21
    }
   ],
   "source": [
    "model.load_weights('pre_trained_glove_model.h5')\n",
    "model.evaluate(x_test, y_test)"
   ]
  },
  {
   "cell_type": "code",
   "execution_count": 23,
   "metadata": {},
   "outputs": [
    {
     "output_type": "stream",
     "name": "stdout",
     "text": "I love this movie\n"
    },
    {
     "output_type": "execute_result",
     "data": {
      "text/plain": "array([[0.63107806],\n       [0.6336722 ],\n       [0.49351135],\n       [0.5613501 ],\n       [0.49946848],\n       [0.49946848],\n       [0.49946848],\n       [0.49946848],\n       [0.49946848],\n       [0.49946848],\n       [0.49946848],\n       [0.49946848],\n       [0.49946848],\n       [0.49946848],\n       [0.49946848],\n       [0.49946848],\n       [0.49946848],\n       [0.49946848],\n       [0.49946848],\n       [0.49946848],\n       [0.49946848],\n       [0.49946848],\n       [0.49946848],\n       [0.49946848],\n       [0.49946848],\n       [0.49946848],\n       [0.49946848],\n       [0.49946848],\n       [0.49946848],\n       [0.49946848],\n       [0.49946848],\n       [0.49946848],\n       [0.49946848],\n       [0.49946848],\n       [0.49946848],\n       [0.49946848],\n       [0.49946848],\n       [0.49946848],\n       [0.49946848],\n       [0.49946848],\n       [0.49946848],\n       [0.49946848],\n       [0.49946848],\n       [0.49946848],\n       [0.49946848],\n       [0.49946848],\n       [0.49946848],\n       [0.49946848],\n       [0.49946848],\n       [0.49946848],\n       [0.49946848],\n       [0.49946848],\n       [0.49946848],\n       [0.49946848],\n       [0.49946848],\n       [0.49946848],\n       [0.49946848],\n       [0.49946848],\n       [0.49946848],\n       [0.49946848],\n       [0.49946848],\n       [0.49946848],\n       [0.49946848],\n       [0.49946848],\n       [0.49946848],\n       [0.49946848],\n       [0.49946848],\n       [0.49946848],\n       [0.49946848],\n       [0.49946848],\n       [0.49946848],\n       [0.49946848],\n       [0.49946848],\n       [0.49946848],\n       [0.49946848],\n       [0.49946848],\n       [0.49946848],\n       [0.49946848],\n       [0.49946848],\n       [0.49946848],\n       [0.49946848],\n       [0.49946848],\n       [0.49946848],\n       [0.49946848],\n       [0.49946848],\n       [0.49946848],\n       [0.49946848],\n       [0.49946848],\n       [0.49946848],\n       [0.49946848],\n       [0.49946848],\n       [0.49946848],\n       [0.49946848],\n       [0.49946848],\n       [0.49946848],\n       [0.49946848],\n       [0.49946848],\n       [0.49946848],\n       [0.49946848],\n       [0.49946848]], dtype=float32)"
     },
     "metadata": {},
     "execution_count": 23
    }
   ],
   "source": [
    "data = []\n",
    "for i in range(100):\n",
    "    data.append('')\n",
    "data[0] = \"I love this movie\"\n",
    "data[1] = \"I really love this movie\"\n",
    "data[2] = \"This movie really sucks\"\n",
    "data[3] = \"What I saw...... I cannot get what it wants to say\"\n",
    "print((data[0]))\n",
    "sequences = tokenizer.texts_to_sequences(data)\n",
    "data = pad_sequences(sequences, maxlen=maxlen,)\n",
    "indices = np.arange(data.shape[0])\n",
    "data = data[indices]\n",
    "\n",
    "model.predict(data)\n",
    "#print(sequences)"
   ]
  },
  {
   "cell_type": "markdown",
   "metadata": {},
   "source": [
    "## Numpy implementation of a simple RNN"
   ]
  },
  {
   "cell_type": "code",
   "execution_count": null,
   "metadata": {},
   "outputs": [],
   "source": [
    "import numpy as np\n",
    "timesteps = 100\n",
    "input_features = 32\n",
    "output_features = 64\n",
    "inputs = np.random.random((timesteps, input_features))\n",
    "state_t = np.zeros((output_features,))\n",
    "W = np.random.random((output_features, input_features))\n",
    "U = np.random.random((output_features, output_features))\n",
    "b = np.random.random((output_features,))\n",
    "successive_outputs = []\n",
    "for input_t in inputs:\n",
    "    output_t = np.tanh(np.dot(W, input_t) + np.dot(U, state_t) + b)\n",
    "    successive_outputs.append(output_t)\n",
    "    state_t = output_t\n",
    "final_output_sequence = np.concatenate(successive_outputs, axis=0)"
   ]
  }
 ]
}