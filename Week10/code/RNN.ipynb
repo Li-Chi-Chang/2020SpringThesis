{
 "nbformat": 4,
 "nbformat_minor": 2,
 "metadata": {
  "language_info": {
   "name": "python",
   "codemirror_mode": {
    "name": "ipython",
    "version": 3
   },
   "version": "3.6.9-final"
  },
  "orig_nbformat": 2,
  "file_extension": ".py",
  "mimetype": "text/x-python",
  "name": "python",
  "npconvert_exporter": "python",
  "pygments_lexer": "ipython3",
  "version": 3,
  "kernelspec": {
   "name": "python36864bitc9f813a56981486d89d460fa6421c0c5",
   "display_name": "Python 3.6.8 64-bit"
  }
 },
 "cells": [
  {
   "cell_type": "markdown",
   "metadata": {},
   "source": [
    "# The RNN\n",
    "\n",
    "## simple RNN in keras"
   ]
  },
  {
   "cell_type": "code",
   "execution_count": 1,
   "metadata": {},
   "outputs": [
    {
     "output_type": "stream",
     "name": "stderr",
     "text": "Using TensorFlow backend.\nWARNING:tensorflow:From /usr/lib/python3/dist-packages/tensorflow_core/python/ops/resource_variable_ops.py:1630: calling BaseResourceVariable.__init__ (from tensorflow.python.ops.resource_variable_ops) with constraint is deprecated and will be removed in a future version.\nInstructions for updating:\nIf using Keras pass *_constraint arguments to layers.\nModel: \"sequential_1\"\n_________________________________________________________________\nLayer (type)                 Output Shape              Param #   \n=================================================================\nembedding_1 (Embedding)      (None, None, 32)          320000    \n_________________________________________________________________\nsimple_rnn_1 (SimpleRNN)     (None, 32)                2080      \n=================================================================\nTotal params: 322,080\nTrainable params: 322,080\nNon-trainable params: 0\n_________________________________________________________________\n"
    }
   ],
   "source": [
    "from keras.models import Sequential\n",
    "from keras.layers import Embedding, SimpleRNN\n",
    "model = Sequential()\n",
    "model.add(Embedding(10000, 32))\n",
    "model.add(SimpleRNN(32))\n",
    "model.summary()"
   ]
  },
  {
   "cell_type": "code",
   "execution_count": 2,
   "metadata": {},
   "outputs": [
    {
     "output_type": "stream",
     "name": "stdout",
     "text": "Model: \"sequential_2\"\n_________________________________________________________________\nLayer (type)                 Output Shape              Param #   \n=================================================================\nembedding_2 (Embedding)      (None, None, 32)          320000    \n_________________________________________________________________\nsimple_rnn_2 (SimpleRNN)     (None, None, 32)          2080      \n_________________________________________________________________\nsimple_rnn_3 (SimpleRNN)     (None, None, 32)          2080      \n_________________________________________________________________\nsimple_rnn_4 (SimpleRNN)     (None, None, 32)          2080      \n_________________________________________________________________\nsimple_rnn_5 (SimpleRNN)     (None, 32)                2080      \n=================================================================\nTotal params: 328,320\nTrainable params: 328,320\nNon-trainable params: 0\n_________________________________________________________________\n"
    }
   ],
   "source": [
    "model = Sequential()\n",
    "model.add(Embedding(10000, 32))\n",
    "model.add(SimpleRNN(32, return_sequences=True))\n",
    "model.add(SimpleRNN(32, return_sequences=True))\n",
    "model.add(SimpleRNN(32, return_sequences=True))\n",
    "model.add(SimpleRNN(32))\n",
    "model.summary()"
   ]
  },
  {
   "cell_type": "markdown",
   "metadata": {},
   "source": [
    "## Preparing data"
   ]
  },
  {
   "cell_type": "code",
   "execution_count": 10,
   "metadata": {},
   "outputs": [
    {
     "output_type": "stream",
     "name": "stdout",
     "text": "Loading data...\n25000 train sequences\n25000 test sequences\nPad sequences (samples x time)\ninput_train shape: (25000, 500)\ninput_test shape: (25000, 500)\n"
    }
   ],
   "source": [
    "from keras.datasets import imdb\n",
    "from keras.preprocessing import sequence\n",
    "max_features = 10000\n",
    "maxlen = 500\n",
    "batch_size = 32\n",
    "print('Loading data...')\n",
    "(input_train0, y_train), (input_test0, y_test) = imdb.load_data(num_words=max_features)\n",
    "print(len(input_train0), 'train sequences')\n",
    "print(len(input_test0), 'test sequences')\n",
    "print('Pad sequences (samples x time)')\n",
    "input_train = sequence.pad_sequences(input_train0, maxlen=maxlen)\n",
    "input_test = sequence.pad_sequences(input_test0, maxlen=maxlen)\n",
    "print('input_train shape:', input_train.shape)\n",
    "print('input_test shape:', input_test.shape)"
   ]
  },
  {
   "cell_type": "code",
   "execution_count": 4,
   "metadata": {},
   "outputs": [
    {
     "output_type": "stream",
     "name": "stdout",
     "text": "WARNING:tensorflow:From /usr/lib/python3/dist-packages/tensorflow_core/python/ops/nn_impl.py:183: where (from tensorflow.python.ops.array_ops) is deprecated and will be removed in a future version.\nInstructions for updating:\nUse tf.where in 2.0, which has the same broadcast rule as np.where\nWARNING:tensorflow:From /usr/lib/python3/dist-packages/keras/backend/tensorflow_backend.py:422: The name tf.global_variables is deprecated. Please use tf.compat.v1.global_variables instead.\n\nTrain on 20000 samples, validate on 5000 samples\nEpoch 1/10\n20000/20000 [==============================] - 20s 1ms/step - loss: 0.6424 - acc: 0.6113 - val_loss: 0.4665 - val_acc: 0.8050\nEpoch 2/10\n20000/20000 [==============================] - 20s 1ms/step - loss: 0.4071 - acc: 0.8270 - val_loss: 0.3774 - val_acc: 0.8416\nEpoch 3/10\n20000/20000 [==============================] - 20s 1ms/step - loss: 0.3006 - acc: 0.8788 - val_loss: 0.4738 - val_acc: 0.7882\nEpoch 4/10\n20000/20000 [==============================] - 21s 1ms/step - loss: 0.2392 - acc: 0.9089 - val_loss: 0.3525 - val_acc: 0.8558\nEpoch 5/10\n20000/20000 [==============================] - 20s 1ms/step - loss: 0.1742 - acc: 0.9344 - val_loss: 0.4265 - val_acc: 0.8366\nEpoch 6/10\n20000/20000 [==============================] - 21s 1ms/step - loss: 0.1175 - acc: 0.9596 - val_loss: 0.4359 - val_acc: 0.8368\nEpoch 7/10\n20000/20000 [==============================] - 21s 1ms/step - loss: 0.0831 - acc: 0.9725 - val_loss: 0.5652 - val_acc: 0.7938\nEpoch 8/10\n20000/20000 [==============================] - 20s 1ms/step - loss: 0.0549 - acc: 0.9834 - val_loss: 0.6059 - val_acc: 0.7888\nEpoch 9/10\n20000/20000 [==============================] - 20s 1ms/step - loss: 0.0385 - acc: 0.9887 - val_loss: 0.5899 - val_acc: 0.8172\nEpoch 10/10\n20000/20000 [==============================] - 20s 1ms/step - loss: 0.0219 - acc: 0.9940 - val_loss: 0.6399 - val_acc: 0.8196\n"
    }
   ],
   "source": [
    "from keras.layers import Dense\n",
    "model = Sequential()\n",
    "model.add(Embedding(max_features, 32))\n",
    "model.add(SimpleRNN(32))\n",
    "model.add(Dense(1, activation='sigmoid'))\n",
    "model.compile(optimizer='rmsprop', loss='binary_crossentropy', metrics=['acc'])\n",
    "history = model.fit(input_train, y_train,\n",
    "epochs=10,\n",
    "batch_size=128,\n",
    "validation_split=0.2)"
   ]
  },
  {
   "cell_type": "code",
   "execution_count": 6,
   "metadata": {},
   "outputs": [
    {
     "output_type": "display_data",
     "data": {
      "text/plain": "<Figure size 432x288 with 1 Axes>",
      "image/png": "[encoded data removed]"
     },
     "metadata": {}
    },
    {
     "output_type": "display_data",
     "data": {
      "text/plain": "<Figure size 432x288 with 1 Axes>",
      "image/png": "[encoded data removed]"
     },
     "metadata": {}
    }
   ],
   "source": [
    "import matplotlib.pyplot as plt\n",
    "acc = history.history['acc']\n",
    "val_acc = history.history['val_acc']\n",
    "loss = history.history['loss']\n",
    "val_loss = history.history['val_loss']\n",
    "epochs = range(1, len(acc) + 1)\n",
    "plt.plot(epochs, acc, 'bo', label='Training acc')\n",
    "plt.plot(epochs, val_acc, 'b', label='Validation acc')\n",
    "plt.title('Training and validation accuracy')\n",
    "plt.legend()\n",
    "plt.figure()\n",
    "plt.plot(epochs, loss, 'bo', label='Training loss')\n",
    "plt.plot(epochs, val_loss, 'b', label='Validation loss')\n",
    "plt.title('Training and validation loss')\n",
    "plt.legend()\n",
    "plt.show()"
   ]
  },
  {
   "cell_type": "markdown",
   "metadata": {},
   "source": [
    "## My testing\n",
    "\n",
    "### save model and reuse it, and try to predict a dataset"
   ]
  },
  {
   "cell_type": "code",
   "execution_count": 48,
   "metadata": {
    "tags": [
     "outputPrepend"
    ]
   },
   "outputs": [
    {
     "output_type": "stream",
     "name": "stdout",
     "text": "# please give this one a miss br br # # and the rest of the cast rendered terrible performances the show is flat flat flat br br i don't know how michael madison could have allowed this one on his plate he almost seemed to know this wasn't going to work out and his performance was quite # so all you madison fans give this a miss\n1\n"
    }
   ],
   "source": [
    "hist2 = model.predict([input_test[1]])\n",
    "#print(input_test0[1])\n",
    "#print(hist2)\n",
    "\n",
    "wordIdx = imdb.get_word_index()\n",
    "#wordIdx['a'] = 3\n",
    "idxWord = {v:k for k,v in wordIdx.items()}\n",
    "#idxWord.get(3) = 'a'\n",
    "decoded = \" \".join( [idxWord.get(i - 3, \"#\") for i in input_test0[0]] )\n",
    "\n",
    "print(decoded)\n",
    "print(y_train[0])\n",
    ""
   ]
  },
  {
   "cell_type": "markdown",
   "metadata": {},
   "source": [
    "### Try to save and predict my data"
   ]
  },
  {
   "cell_type": "code",
   "execution_count": 63,
   "metadata": {},
   "outputs": [
    {
     "output_type": "stream",
     "name": "stdout",
     "text": "['i', 'hate', 'love', 'this', 'movie']\n[10, 781, 116, 11, 17]\n"
    },
    {
     "output_type": "execute_result",
     "data": {
      "text/plain": "array([[0.46103293],\n       [0.11307251],\n       [0.4650474 ],\n       [0.43269092],\n       [0.6199068 ]], dtype=float32)"
     },
     "metadata": {},
     "execution_count": 63
    }
   ],
   "source": [
    "from keras import models\n",
    "model.save('simplernn.h5')\n",
    "model2 = models.load_model('simplernn.h5')\n",
    "# model2.summary()\n",
    "\n",
    "data = 'I hate love this movie'\n",
    "dataArr = data.lower().split()\n",
    "print(dataArr)\n",
    "indexData = [wordIdx[i] for i in dataArr]\n",
    "print(indexData)\n",
    "model2.predict([indexData])"
   ]
  },
  {
   "cell_type": "markdown",
   "metadata": {},
   "source": [
    "## LSTM and GRU\n",
    "\n",
    "### Long short-term memory(LSTM)\n",
    "\n",
    "the algo simply present: **y = activation(dot(state_t, U) + dot(input_t, W) + b)**"
   ]
  },
  {
   "cell_type": "code",
   "execution_count": null,
   "metadata": {},
   "outputs": [],
   "source": []
  }
 ]
}